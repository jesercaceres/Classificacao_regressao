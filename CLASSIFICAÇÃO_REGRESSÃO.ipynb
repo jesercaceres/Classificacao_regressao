{
  "nbformat": 4,
  "nbformat_minor": 0,
  "metadata": {
    "colab": {
      "provenance": [],
      "authorship_tag": "ABX9TyNEObXO/1ds+U/uN33oDZvi"
    },
    "kernelspec": {
      "name": "python3",
      "display_name": "Python 3"
    },
    "language_info": {
      "name": "python"
    }
  },
  "cells": [
    {
      "cell_type": "code",
      "source": [
        "# Naive Bayes Gaussiano\n",
        "\n",
        "from sklearn.naive_bayes import GaussianNB\n",
        "\n",
        "# Dados de exemplo\n",
        "X = [[100, 20], [150, 30], [120, 25], [140, 28]]\n",
        "y = ['Não Spam', 'Spam', 'Não Spam', 'Spam']\n",
        "\n",
        "# Treinando o modelo\n",
        "model = GaussianNB()\n",
        "model.fit(X, y)\n",
        "\n",
        "# Previsão para um novo e-mail\n",
        "novo_email = [[130, 22]]\n",
        "resultado = model.predict(novo_email)\n",
        "print(f\"Previsão para o novo e-mail: {resultado[0]}\")"
      ],
      "metadata": {
        "colab": {
          "base_uri": "https://localhost:8080/"
        },
        "id": "DJHWxq4ijbqg",
        "outputId": "c08f86ef-0003-47f0-aafe-4b1581d233bc"
      },
      "execution_count": 8,
      "outputs": [
        {
          "output_type": "stream",
          "name": "stdout",
          "text": [
            "Previsão para o novo e-mail: Não Spam\n"
          ]
        }
      ]
    },
    {
      "cell_type": "code",
      "source": [
        "# Naive Bayes Multinomial\n",
        "\n",
        "# Passo 1: Importar as bibliotecas necessárias\n",
        "import numpy as np\n",
        "from sklearn.model_selection import train_test_split\n",
        "from sklearn.feature_extraction.text import CountVectorizer\n",
        "from sklearn.naive_bayes import MultinomialNB\n",
        "from sklearn.metrics import accuracy_score\n",
        "\n",
        "# Passo 2: Preparar os dados\n",
        "emails = [\n",
        "    \"Oferta imperdível! Ganhe 50% de desconto em todos os produtos!\",\n",
        "    \"Você ganhou um prêmio de R$ 10.000! Clique aqui para resgatar.\",\n",
        "    \"Confira as novas ofertas da loja. Não perca!\",\n",
        "    \"Reunião de equipe amanhã às 10h. Por favor, confirme sua presença.\",\n",
        "    \"Lembrete: pagamento da fatura do cartão de crédito vence amanhã.\"\n",
        "]\n",
        "\n",
        "labels = [1, 1, 1, 0, 0]  # 1 para spam, 0 para não spam\n",
        "\n",
        "# Passo 3: Transformar os dados em uma matriz de contagem de palavras (bag of words)\n",
        "vectorizer = CountVectorizer()\n",
        "X = vectorizer.fit_transform(emails)\n",
        "\n",
        "# Passo 4: Dividir os dados em conjunto de treinamento e conjunto de teste\n",
        "X_train, X_test, y_train, y_test = train_test_split(X, labels, test_size=0.2, random_state=42)\n",
        "\n",
        "# Passo 5: Criar e treinar o modelo\n",
        "model = MultinomialNB()  # Criar o modelo Naive Bayes multinomial\n",
        "model.fit(X_train, y_train)  # Treinar o modelo com os dados de treinamento\n",
        "\n",
        "# Passo 6: Fazer previsões\n",
        "predictions = model.predict(X_test)  # Fazer previsões usando o conjunto de teste\n",
        "\n",
        "# Passo 7: Avaliar a precisão do modelo\n",
        "accuracy = accuracy_score(y_test, predictions)  # Calcular a precisão do modelo\n",
        "print(\"Accuracy:\", accuracy)"
      ],
      "metadata": {
        "colab": {
          "base_uri": "https://localhost:8080/"
        },
        "id": "t--zeEmpjdGf",
        "outputId": "ac243efb-4ab6-4e0d-968e-fc61aee91338"
      },
      "execution_count": 9,
      "outputs": [
        {
          "output_type": "stream",
          "name": "stdout",
          "text": [
            "Accuracy: 1.0\n"
          ]
        }
      ]
    },
    {
      "cell_type": "code",
      "source": [
        "# K-Nearest Neighbors (KNN)\n",
        "\n",
        "# Passo 1: Importar as bibliotecas necessárias\n",
        "import numpy as np\n",
        "from sklearn.model_selection import train_test_split\n",
        "from sklearn.feature_extraction.text import CountVectorizer\n",
        "from sklearn.neighbors import KNeighborsClassifier\n",
        "from sklearn.metrics import accuracy_score\n",
        "\n",
        "# Passo 2: Preparar os dados\n",
        "# Suponha que temos um conjunto de dados com e-mails e seus rótulos (spam ou não spam)\n",
        "# Aqui está um exemplo simples de um conjunto de dados fictício:\n",
        "emails = [\n",
        "    \"Oferta imperdível! Ganhe 50% de desconto em todos os produtos!\",\n",
        "    \"Você ganhou um prêmio de R$ 10.000! Clique aqui para resgatar.\",\n",
        "    \"Confira as novas ofertas da loja. Não perca!\",\n",
        "    \"Reunião de equipe amanhã às 10h. Por favor, confirme sua presença.\",\n",
        "    \"Lembrete: pagamento da fatura do cartão de crédito vence amanhã.\"\n",
        "]\n",
        "\n",
        "labels = [1, 1, 1, 0, 0]  # 1 para spam, 0 para não spam\n",
        "\n",
        "# Passo 3: Transformar os dados em uma matriz de contagem de palavras (bag of words)\n",
        "vectorizer = CountVectorizer()\n",
        "X = vectorizer.fit_transform(emails)\n",
        "\n",
        "# Passo 4: Dividir os dados em conjunto de treinamento e conjunto de teste\n",
        "X_train, X_test, y_train, y_test = train_test_split(X, labels, test_size=0.2, random_state=42)\n",
        "\n",
        "# Passo 5: Criar e treinar o modelo KNN\n",
        "model = KNeighborsClassifier(n_neighbors=3)  # Criar o modelo KNN com 3 vizinhos\n",
        "model.fit(X_train, y_train)  # Treinar o modelo com os dados de treinamento\n",
        "\n",
        "# Passo 6: Fazer previsões\n",
        "predictions = model.predict(X_test)  # Fazer previsões usando o conjunto de teste\n",
        "\n",
        "# Passo 7: Avaliar a precisão do modelo\n",
        "accuracy = accuracy_score(y_test, predictions)  # Calcular a precisão do modelo\n",
        "print(\"Accuracy:\", accuracy)"
      ],
      "metadata": {
        "colab": {
          "base_uri": "https://localhost:8080/"
        },
        "id": "hNv5wAv2jl6m",
        "outputId": "183da015-0f27-4e7c-f208-95e29e429217"
      },
      "execution_count": 10,
      "outputs": [
        {
          "output_type": "stream",
          "name": "stdout",
          "text": [
            "Accuracy: 1.0\n"
          ]
        }
      ]
    },
    {
      "cell_type": "code",
      "source": [
        "# Máquinas de Vetores de Suporte (SVM)\n",
        "\n",
        "# Passo 1: Importar as bibliotecas necessárias\n",
        "from sklearn.model_selection import train_test_split\n",
        "from sklearn.feature_extraction.text import CountVectorizer\n",
        "from sklearn.svm import SVC\n",
        "from sklearn.metrics import accuracy_score\n",
        "\n",
        "# Passo 2: Preparar os dados\n",
        "# Suponha que temos um conjunto de dados com e-mails e seus rótulos (spam ou não spam)\n",
        "# Aqui está um exemplo simples de um conjunto de dados fictício:\n",
        "emails = [\n",
        "    \"Oferta imperdível! Ganhe 50% de desconto em todos os produtos!\",\n",
        "    \"Você ganhou um prêmio de R$ 10.000! Clique aqui para resgatar.\",\n",
        "    \"Confira as novas ofertas da loja. Não perca!\",\n",
        "    \"Reunião de equipe amanhã às 10h. Por favor, confirme sua presença.\",\n",
        "    \"Lembrete: pagamento da fatura do cartão de crédito vence amanhã.\"\n",
        "]\n",
        "\n",
        "labels = [1, 1, 1, 0, 0]  # 1 para spam, 0 para não spam\n",
        "\n",
        "# Passo 3: Transformar os dados em uma matriz de contagem de palavras (bag of words)\n",
        "vectorizer = CountVectorizer()\n",
        "X = vectorizer.fit_transform(emails)\n",
        "\n",
        "# Passo 4: Dividir os dados em conjunto de treinamento e conjunto de teste\n",
        "X_train, X_test, y_train, y_test = train_test_split(X, labels, test_size=0.2, random_state=42)\n",
        "\n",
        "# Passo 5: Criar e treinar o modelo SVM\n",
        "model = SVC(kernel='linear')  # Criar o modelo SVM com kernel linear\n",
        "model.fit(X_train, y_train)  # Treinar o modelo com os dados de treinamento\n",
        "\n",
        "# Passo 6: Fazer previsões\n",
        "predictions = model.predict(X_test)  # Fazer previsões usando o conjunto de teste\n",
        "\n",
        "# Passo 7: Avaliar a precisão do modelo\n",
        "accuracy = accuracy_score(y_test, predictions)  # Calcular a precisão do modelo\n",
        "print(\"Accuracy:\", accuracy)"
      ],
      "metadata": {
        "colab": {
          "base_uri": "https://localhost:8080/"
        },
        "id": "SZc5HxmGjvMW",
        "outputId": "e1aaf193-f5f6-4b4f-ea25-c1b37b4de323"
      },
      "execution_count": 11,
      "outputs": [
        {
          "output_type": "stream",
          "name": "stdout",
          "text": [
            "Accuracy: 1.0\n"
          ]
        }
      ]
    },
    {
      "cell_type": "code",
      "source": [
        "# Árvores de Decisão\n",
        "\n",
        "# Passo 1: Importar as bibliotecas necessárias\n",
        "from sklearn.model_selection import train_test_split\n",
        "from sklearn.feature_extraction.text import CountVectorizer\n",
        "from sklearn.tree import DecisionTreeClassifier\n",
        "from sklearn.metrics import accuracy_score\n",
        "\n",
        "# Passo 2: Preparar os dados\n",
        "# Suponha que temos um conjunto de dados com e-mails e seus rótulos (spam ou não spam)\n",
        "# Aqui está um exemplo simples de um conjunto de dados fictício:\n",
        "emails = [\n",
        "    \"Oferta imperdível! Ganhe 50% de desconto em todos os produtos!\",\n",
        "    \"Você ganhou um prêmio de R$ 10.000! Clique aqui para resgatar.\",\n",
        "    \"Confira as novas ofertas da loja. Não perca!\",\n",
        "    \"Reunião de equipe amanhã às 10h. Por favor, confirme sua presença.\",\n",
        "    \"Lembrete: pagamento da fatura do cartão de crédito vence amanhã.\"\n",
        "]\n",
        "\n",
        "labels = [1, 1, 1, 0, 0]  # 1 para spam, 0 para não spam\n",
        "\n",
        "# Passo 3: Transformar os dados em uma matriz de contagem de palavras (bag of words)\n",
        "vectorizer = CountVectorizer()\n",
        "X = vectorizer.fit_transform(emails)\n",
        "\n",
        "# Passo 4: Dividir os dados em conjunto de treinamento e conjunto de teste\n",
        "X_train, X_test, y_train, y_test = train_test_split(X, labels, test_size=0.2, random_state=42)\n",
        "\n",
        "# Passo 5: Criar e treinar o modelo de Árvore de Decisão\n",
        "model = DecisionTreeClassifier()  # Criar o modelo de Árvore de Decisão\n",
        "model.fit(X_train, y_train)  # Treinar o modelo com os dados de treinamento\n",
        "\n",
        "# Passo 6: Fazer previsões\n",
        "predictions = model.predict(X_test)  # Fazer previsões usando o conjunto de teste\n",
        "\n",
        "# Passo 7: Avaliar a precisão do modelo\n",
        "accuracy = accuracy_score(y_test, predictions)  # Calcular a precisão do modelo\n",
        "print(\"Accuracy:\", accuracy)"
      ],
      "metadata": {
        "colab": {
          "base_uri": "https://localhost:8080/"
        },
        "id": "NyydhMyoj_2K",
        "outputId": "27aa675f-74d2-4ded-c5c5-46ed8d06b118"
      },
      "execution_count": 7,
      "outputs": [
        {
          "output_type": "stream",
          "name": "stdout",
          "text": [
            "Accuracy: 1.0\n"
          ]
        }
      ]
    }
  ]
}